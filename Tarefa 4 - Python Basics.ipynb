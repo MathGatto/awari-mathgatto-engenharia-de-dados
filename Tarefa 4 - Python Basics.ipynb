{
 "cells": [
  {
   "cell_type": "markdown",
   "metadata": {},
   "source": [
    "# MATHEUS GATTO\n",
    "\n",
    "# TAREFA AULA 04 - Python Basics"
   ]
  },
  {
   "cell_type": "code",
   "execution_count": 6,
   "id": "c4a196dd-0479-4085-9c95-891f8fbc2108",
   "metadata": {
    "tags": []
   },
   "outputs": [
    {
     "name": "stdout",
     "output_type": "stream",
     "text": [
      "[0, 1, 1, 2, 3, 5, 8, 13, 21, 34, 55, 89]\n"
     ]
    }
   ],
   "source": [
    "#1 Função para gerar a sequência de Fibonacci até um limite, no caso 100\n",
    "def fibonacci_sequence(limit):\n",
    "    # Inicializa os dois primeiros números da sequência\n",
    "    a, b = 0, 1\n",
    "    # Lista para armazenar a sequência\n",
    "    fibonacci_list = []\n",
    "\n",
    "    # Continua gerando números na sequência até atingir o limite\n",
    "    while a <= limit:\n",
    "        fibonacci_list.append(a)\n",
    "        a, b = b, a + b\n",
    "\n",
    "    return fibonacci_list\n",
    "\n",
    "# Define o limite (100 no caso)\n",
    "limite = 100\n",
    "\n",
    "# Chama a função e imprime a sequência de Fibonacci até o limite\n",
    "resultado = fibonacci_sequence(limite)\n",
    "print(resultado)"
   ]
  },
  {
   "cell_type": "code",
   "execution_count": 8,
   "id": "4c089f7a-dc57-464b-8fd6-e63b456154b5",
   "metadata": {
    "tags": []
   },
   "outputs": [
    {
     "name": "stdout",
     "output_type": "stream",
     "text": [
      "A fatoração de 1024 é: [2, 2, 2, 2, 2, 2, 2, 2, 2, 2]\n"
     ]
    }
   ],
   "source": [
    "#2 Criar algoritmo que faça a fatoração do número 1024\n",
    "\n",
    "def fatoracao(numero):\n",
    "    fatores = []\n",
    "    divisor = 2\n",
    "    \n",
    "    while divisor <= numero:\n",
    "        if numero % divisor == 0:\n",
    "            fatores.append(divisor)\n",
    "            numero = numero // divisor\n",
    "        else:\n",
    "            divisor += 1\n",
    "    \n",
    "    return fatores\n",
    "\n",
    "numero = 1024\n",
    "fatores = fatoracao(numero)\n",
    "\n",
    "print(f\"A fatoração de {numero} é: {fatores}\")"
   ]
  },
  {
   "cell_type": "code",
   "execution_count": 21,
   "id": "0368f08c-54a0-4e3f-af08-6606186242a6",
   "metadata": {
    "tags": []
   },
   "outputs": [
    {
     "name": "stdout",
     "output_type": "stream",
     "text": [
      "Digite a fruta que deseja ver na lista ou 999 para SAIR: maca\n",
      "A maca foi adicionada na lista! \n",
      "Digite a fruta que deseja ver na lista ou 999 para SAIR: bananas\n",
      "A bananas está na lista \n",
      "Digite a fruta que deseja ver na lista ou 999 para SAIR: 999\n"
     ]
    },
    {
     "name": "stdout",
     "output_type": "stream",
     "text": [
      "Lista de frutas atualizada: ['bananas', 'maças', 'peras', 'uvas', 'laranjas', 'maca']\n"
     ]
    }
   ],
   "source": [
    "#3 Criar uma lista de frutas (bananas, maçãs, peras, uvas, laranjas) \n",
    "#e fazer um algoritmo para consultar se uma fruta existe na lista. Caso não exista, adicionar a nova fruta. \n",
    "#O programa só deve encerrar a brincadeira quando o usuário informar o número 999.\n",
    "\n",
    "lista = [\"bananas\", \"maças\", \"peras\", \"uvas\", \"laranjas\"]\n",
    "n = 0\n",
    "while True:\n",
    "        \n",
    "    entrada = input(\"Digite a fruta que deseja ver na lista ou 999 para SAIR:\" )\n",
    "    if entrada == \"999\":\n",
    "        break\n",
    "            \n",
    "    if entrada in lista:\n",
    "        input(f\"A {entrada} está na lista\")\n",
    "    else:\n",
    "        lista.append(entrada)\n",
    "        input(f\"A {entrada} foi adicionada na lista!\")\n",
    "\n",
    "print(\"Lista de frutas atualizada:\", lista)          \n"
   ]
  },
  {
   "cell_type": "code",
   "execution_count": null,
   "id": "e19e8de6-621a-45f4-9587-a10ecc74c186",
   "metadata": {},
   "outputs": [],
   "source": []
  }
 ],
 "metadata": {
  "kernelspec": {
   "display_name": "Python 3 (ipykernel)",
   "language": "python",
   "name": "python3"
  },
  "language_info": {
   "codemirror_mode": {
    "name": "ipython",
    "version": 3
   },
   "file_extension": ".py",
   "mimetype": "text/x-python",
   "name": "python",
   "nbconvert_exporter": "python",
   "pygments_lexer": "ipython3",
   "version": "3.10.9"
  }
 },
 "nbformat": 4,
 "nbformat_minor": 5
}
