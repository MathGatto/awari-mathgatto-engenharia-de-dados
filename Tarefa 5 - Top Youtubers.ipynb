{
 "cells": [
  {
   "cell_type": "markdown",
   "metadata": {},
   "source": [
    "# MATHEUS GATTO\n",
    "\n",
    "# TAREFA AULA 05 - TOP YOUTUBERS "
   ]
  },
  {
   "cell_type": "code",
   "execution_count": null,
   "id": "67bc0471-15cc-4934-9f1b-313fd9eddfa9",
   "metadata": {},
   "outputs": [],
   "source": [
    "#PASSOS DE LIMPEZA\n",
    "\n",
    "1. Checar a tipagem do dataframe (Por exemplo usando .info())\n",
    "2. Converter"
   ]
  },
  {
   "cell_type": "code",
   "execution_count": 2,
   "id": "da219dc0-f94a-4241-baa9-0b2213a5b45a",
   "metadata": {
    "tags": []
   },
   "outputs": [],
   "source": [
    "import numpy as np\n",
    "import pandas as pd\n",
    "import matplotlib as mplt"
   ]
  },
  {
   "cell_type": "code",
   "execution_count": null,
   "id": "403d8873-8b64-44b5-acea-42da0fa69091",
   "metadata": {},
   "outputs": [],
   "source": []
  },
  {
   "cell_type": "code",
   "execution_count": 3,
   "id": "4032a0e4-871b-4660-86c2-41ed751c1219",
   "metadata": {
    "tags": []
   },
   "outputs": [],
   "source": [
    "#LENDO O ARQUIVO CSV\n",
    "df = pd.read_csv('arquivos/topyoutube.csv')"
   ]
  },
  {
   "cell_type": "code",
   "execution_count": 6,
   "id": "ad93c0ca-27cc-4873-8efd-ff04465946bc",
   "metadata": {
    "tags": []
   },
   "outputs": [
    {
     "name": "stdout",
     "output_type": "stream",
     "text": [
      "<class 'pandas.core.frame.DataFrame'>\n",
      "RangeIndex: 1587 entries, 0 to 1586\n",
      "Data columns (total 4 columns):\n",
      " #   Column       Non-Null Count  Dtype  \n",
      "---  ------       --------------  -----  \n",
      " 0   Artist       1587 non-null   object \n",
      " 1   Total Views  1587 non-null   object \n",
      " 2   100M         1416 non-null   float64\n",
      " 3   Avg          1587 non-null   float64\n",
      "dtypes: float64(2), object(2)\n",
      "memory usage: 49.7+ KB\n"
     ]
    }
   ],
   "source": [
    "df.info()"
   ]
  },
  {
   "cell_type": "code",
   "execution_count": 16,
   "id": "66f75ef1-83cd-4d2a-970f-db9c7c4701b5",
   "metadata": {
    "tags": []
   },
   "outputs": [
    {
     "data": {
      "text/html": [
       "<div>\n",
       "<style scoped>\n",
       "    .dataframe tbody tr th:only-of-type {\n",
       "        vertical-align: middle;\n",
       "    }\n",
       "\n",
       "    .dataframe tbody tr th {\n",
       "        vertical-align: top;\n",
       "    }\n",
       "\n",
       "    .dataframe thead th {\n",
       "        text-align: right;\n",
       "    }\n",
       "</style>\n",
       "<table border=\"1\" class=\"dataframe\">\n",
       "  <thead>\n",
       "    <tr style=\"text-align: right;\">\n",
       "      <th></th>\n",
       "      <th>Artist</th>\n",
       "      <th>Total Views</th>\n",
       "      <th>100M</th>\n",
       "      <th>Avg</th>\n",
       "    </tr>\n",
       "  </thead>\n",
       "  <tbody>\n",
       "    <tr>\n",
       "      <th>0</th>\n",
       "      <td>BTS</td>\n",
       "      <td>27,947.9</td>\n",
       "      <td>6300000000.0</td>\n",
       "      <td>7.37</td>\n",
       "    </tr>\n",
       "    <tr>\n",
       "      <th>1</th>\n",
       "      <td>Bad Bunny</td>\n",
       "      <td>27,573.4</td>\n",
       "      <td>6600000000.0</td>\n",
       "      <td>14.56</td>\n",
       "    </tr>\n",
       "    <tr>\n",
       "      <th>2</th>\n",
       "      <td>Justin Bieber</td>\n",
       "      <td>27,399.7</td>\n",
       "      <td>3700000000.0</td>\n",
       "      <td>3.99</td>\n",
       "    </tr>\n",
       "    <tr>\n",
       "      <th>3</th>\n",
       "      <td>Ed Sheeran</td>\n",
       "      <td>26,894.0</td>\n",
       "      <td>3900000000.0</td>\n",
       "      <td>4.61</td>\n",
       "    </tr>\n",
       "    <tr>\n",
       "      <th>4</th>\n",
       "      <td>Taylor Swift</td>\n",
       "      <td>24,350.0</td>\n",
       "      <td>3800000000.0</td>\n",
       "      <td>5.72</td>\n",
       "    </tr>\n",
       "    <tr>\n",
       "      <th>...</th>\n",
       "      <td>...</td>\n",
       "      <td>...</td>\n",
       "      <td>...</td>\n",
       "      <td>...</td>\n",
       "    </tr>\n",
       "    <tr>\n",
       "      <th>1582</th>\n",
       "      <td>Pietro Lombardi</td>\n",
       "      <td>204.1</td>\n",
       "      <td>Não Informado</td>\n",
       "      <td>0.02</td>\n",
       "    </tr>\n",
       "    <tr>\n",
       "      <th>1583</th>\n",
       "      <td>Duffy</td>\n",
       "      <td>203.2</td>\n",
       "      <td>Não Informado</td>\n",
       "      <td>0.02</td>\n",
       "    </tr>\n",
       "    <tr>\n",
       "      <th>1584</th>\n",
       "      <td>Psirico</td>\n",
       "      <td>201.1</td>\n",
       "      <td>100000000.0</td>\n",
       "      <td>0.04</td>\n",
       "    </tr>\n",
       "    <tr>\n",
       "      <th>1585</th>\n",
       "      <td>Alex Clare</td>\n",
       "      <td>200.8</td>\n",
       "      <td>Não Informado</td>\n",
       "      <td>0.02</td>\n",
       "    </tr>\n",
       "    <tr>\n",
       "      <th>1586</th>\n",
       "      <td>The Avener</td>\n",
       "      <td>200.5</td>\n",
       "      <td>Não Informado</td>\n",
       "      <td>0.04</td>\n",
       "    </tr>\n",
       "  </tbody>\n",
       "</table>\n",
       "<p>1587 rows × 4 columns</p>\n",
       "</div>"
      ],
      "text/plain": [
       "               Artist Total Views           100M    Avg\n",
       "0                 BTS    27,947.9   6300000000.0   7.37\n",
       "1           Bad Bunny    27,573.4   6600000000.0  14.56\n",
       "2       Justin Bieber    27,399.7   3700000000.0   3.99\n",
       "3          Ed Sheeran    26,894.0   3900000000.0   4.61\n",
       "4        Taylor Swift    24,350.0   3800000000.0   5.72\n",
       "...               ...         ...            ...    ...\n",
       "1582  Pietro Lombardi       204.1  Não Informado   0.02\n",
       "1583            Duffy       203.2  Não Informado   0.02\n",
       "1584          Psirico       201.1    100000000.0   0.04\n",
       "1585       Alex Clare       200.8  Não Informado   0.02\n",
       "1586       The Avener       200.5  Não Informado   0.04\n",
       "\n",
       "[1587 rows x 4 columns]"
      ]
     },
     "execution_count": 16,
     "metadata": {},
     "output_type": "execute_result"
    }
   ],
   "source": [
    "#Mostrando o arquivo\n",
    "\n",
    "df"
   ]
  },
  {
   "cell_type": "code",
   "execution_count": 13,
   "id": "d64b6915-5b27-4296-95cf-e25bf8d73d4e",
   "metadata": {
    "tags": []
   },
   "outputs": [
    {
     "data": {
      "text/plain": [
       "Artist         0\n",
       "Total Views    0\n",
       "100M           0\n",
       "Avg            0\n",
       "dtype: int64"
      ]
     },
     "execution_count": 13,
     "metadata": {},
     "output_type": "execute_result"
    }
   ],
   "source": [
    "#CHECANDO OS CAMPOS NULOS\n",
    "df.isnull().sum()"
   ]
  },
  {
   "cell_type": "code",
   "execution_count": 12,
   "id": "caa2a617-e867-4a3c-952d-0a3fa773b191",
   "metadata": {
    "tags": []
   },
   "outputs": [
    {
     "data": {
      "text/html": [
       "<div>\n",
       "<style scoped>\n",
       "    .dataframe tbody tr th:only-of-type {\n",
       "        vertical-align: middle;\n",
       "    }\n",
       "\n",
       "    .dataframe tbody tr th {\n",
       "        vertical-align: top;\n",
       "    }\n",
       "\n",
       "    .dataframe thead th {\n",
       "        text-align: right;\n",
       "    }\n",
       "</style>\n",
       "<table border=\"1\" class=\"dataframe\">\n",
       "  <thead>\n",
       "    <tr style=\"text-align: right;\">\n",
       "      <th></th>\n",
       "      <th>Artist</th>\n",
       "      <th>Total Views</th>\n",
       "      <th>100M</th>\n",
       "      <th>Avg</th>\n",
       "    </tr>\n",
       "  </thead>\n",
       "  <tbody>\n",
       "    <tr>\n",
       "      <th>0</th>\n",
       "      <td>BTS</td>\n",
       "      <td>27,947.9</td>\n",
       "      <td>6300000000.0</td>\n",
       "      <td>7.370</td>\n",
       "    </tr>\n",
       "    <tr>\n",
       "      <th>1</th>\n",
       "      <td>Bad Bunny</td>\n",
       "      <td>27,573.4</td>\n",
       "      <td>6600000000.0</td>\n",
       "      <td>14.555</td>\n",
       "    </tr>\n",
       "  </tbody>\n",
       "</table>\n",
       "</div>"
      ],
      "text/plain": [
       "      Artist Total Views          100M     Avg\n",
       "0        BTS    27,947.9  6300000000.0   7.370\n",
       "1  Bad Bunny    27,573.4  6600000000.0  14.555"
      ]
     },
     "execution_count": 12,
     "metadata": {},
     "output_type": "execute_result"
    }
   ],
   "source": [
    "# 2. Tratar as colunas sem informação adicionando o texto “Não informado”.\n",
    "df = df.fillna(\"Não Informado\")\n",
    "\n",
    "df.head(2)"
   ]
  },
  {
   "cell_type": "code",
   "execution_count": 9,
   "id": "10d41253-8521-4124-9f33-5626063389d8",
   "metadata": {
    "tags": []
   },
   "outputs": [],
   "source": [
    "# 3. Formatar a coluna de total de inscritos multiplicando por 100 milhões.\n",
    "# Preciso tomar cuidado para não multiplicar quando o campo for OBJECT, isso faz o PC travar todo\n",
    "\n",
    "#df['100M'] = df['100M'] * 100000000\n"
   ]
  },
  {
   "cell_type": "code",
   "execution_count": 15,
   "id": "e584b5d0-92e5-43c9-8f47-390a8808dfaf",
   "metadata": {
    "tags": []
   },
   "outputs": [],
   "source": [
    "# 4. Formatar coluna “AVG” para 2 casas decimais depois da vírgula.\n",
    "df[\"Avg\"] = df[\"Avg\"].round(2)"
   ]
  },
  {
   "cell_type": "code",
   "execution_count": 136,
   "id": "f2e58890-3547-44f1-af18-b7c88376ec05",
   "metadata": {
    "tags": []
   },
   "outputs": [
    {
     "data": {
      "text/plain": [
       "0        7.37\n",
       "1       14.56\n",
       "2        3.99\n",
       "3        4.61\n",
       "4        5.72\n",
       "        ...  \n",
       "1582     0.02\n",
       "1583     0.02\n",
       "1584     0.04\n",
       "1585     0.02\n",
       "1586     0.04\n",
       "Name: Avg, Length: 1587, dtype: float64"
      ]
     },
     "execution_count": 136,
     "metadata": {},
     "output_type": "execute_result"
    }
   ],
   "source": [
    "df[\"Avg\"]"
   ]
  },
  {
   "cell_type": "code",
   "execution_count": 18,
   "id": "700db8b6-bab4-4355-a623-67bcb659dc50",
   "metadata": {
    "tags": []
   },
   "outputs": [
    {
     "data": {
      "text/html": [
       "<div>\n",
       "<style scoped>\n",
       "    .dataframe tbody tr th:only-of-type {\n",
       "        vertical-align: middle;\n",
       "    }\n",
       "\n",
       "    .dataframe tbody tr th {\n",
       "        vertical-align: top;\n",
       "    }\n",
       "\n",
       "    .dataframe thead th {\n",
       "        text-align: right;\n",
       "    }\n",
       "</style>\n",
       "<table border=\"1\" class=\"dataframe\">\n",
       "  <thead>\n",
       "    <tr style=\"text-align: right;\">\n",
       "      <th></th>\n",
       "      <th>Artist</th>\n",
       "      <th>Total Views</th>\n",
       "      <th>100M</th>\n",
       "      <th>Avg</th>\n",
       "    </tr>\n",
       "  </thead>\n",
       "  <tbody>\n",
       "    <tr>\n",
       "      <th>35</th>\n",
       "      <td>Guru Randhawa</td>\n",
       "      <td>12,413.4</td>\n",
       "      <td>3300000000.0</td>\n",
       "      <td>21.63</td>\n",
       "    </tr>\n",
       "    <tr>\n",
       "      <th>1</th>\n",
       "      <td>Bad Bunny</td>\n",
       "      <td>27,573.4</td>\n",
       "      <td>6600000000.0</td>\n",
       "      <td>14.56</td>\n",
       "    </tr>\n",
       "    <tr>\n",
       "      <th>12</th>\n",
       "      <td>Blackpink</td>\n",
       "      <td>20,082.0</td>\n",
       "      <td>3200000000.0</td>\n",
       "      <td>8.63</td>\n",
       "    </tr>\n",
       "    <tr>\n",
       "      <th>16</th>\n",
       "      <td>The Weeknd</td>\n",
       "      <td>17,668.9</td>\n",
       "      <td>3000000000.0</td>\n",
       "      <td>8.52</td>\n",
       "    </tr>\n",
       "    <tr>\n",
       "      <th>5</th>\n",
       "      <td>Shakira</td>\n",
       "      <td>23,961.8</td>\n",
       "      <td>4300000000.0</td>\n",
       "      <td>7.84</td>\n",
       "    </tr>\n",
       "    <tr>\n",
       "      <th>39</th>\n",
       "      <td>Anuel AA</td>\n",
       "      <td>12,111.8</td>\n",
       "      <td>2300000000.0</td>\n",
       "      <td>7.48</td>\n",
       "    </tr>\n",
       "    <tr>\n",
       "      <th>0</th>\n",
       "      <td>BTS</td>\n",
       "      <td>27,947.9</td>\n",
       "      <td>6300000000.0</td>\n",
       "      <td>7.37</td>\n",
       "    </tr>\n",
       "    <tr>\n",
       "      <th>338</th>\n",
       "      <td>Feid</td>\n",
       "      <td>2,669.1</td>\n",
       "      <td>800000000.0</td>\n",
       "      <td>6.68</td>\n",
       "    </tr>\n",
       "    <tr>\n",
       "      <th>28</th>\n",
       "      <td>Karol G</td>\n",
       "      <td>13,981.8</td>\n",
       "      <td>2600000000.0</td>\n",
       "      <td>6.59</td>\n",
       "    </tr>\n",
       "    <tr>\n",
       "      <th>18</th>\n",
       "      <td>Marília Mendonça</td>\n",
       "      <td>16,515.8</td>\n",
       "      <td>5300000000.0</td>\n",
       "      <td>6.40</td>\n",
       "    </tr>\n",
       "  </tbody>\n",
       "</table>\n",
       "</div>"
      ],
      "text/plain": [
       "               Artist Total Views          100M    Avg\n",
       "35      Guru Randhawa    12,413.4  3300000000.0  21.63\n",
       "1           Bad Bunny    27,573.4  6600000000.0  14.56\n",
       "12          Blackpink    20,082.0  3200000000.0   8.63\n",
       "16         The Weeknd    17,668.9  3000000000.0   8.52\n",
       "5             Shakira    23,961.8  4300000000.0   7.84\n",
       "39           Anuel AA    12,111.8  2300000000.0   7.48\n",
       "0                 BTS    27,947.9  6300000000.0   7.37\n",
       "338              Feid     2,669.1   800000000.0   6.68\n",
       "28            Karol G    13,981.8  2600000000.0   6.59\n",
       "18   Marília Mendonça    16,515.8  5300000000.0   6.40"
      ]
     },
     "execution_count": 18,
     "metadata": {},
     "output_type": "execute_result"
    }
   ],
   "source": [
    "# 5. Mostrar os top 10 usuários.\n",
    "\n",
    "df_ordenado = df.sort_values(by='Avg', ascending=False) #Ordenando de acordo com o AVG\n",
    "top10_query = df_ordenado.head(10)\n",
    "\n",
    "top10_query"
   ]
  },
  {
   "cell_type": "code",
   "execution_count": 57,
   "id": "0f78e51b-fa21-46bb-a990-cac301af6814",
   "metadata": {
    "tags": []
   },
   "outputs": [],
   "source": []
  },
  {
   "cell_type": "code",
   "execution_count": 19,
   "id": "75a2e350-5f3e-4e4d-8fc2-31447d273833",
   "metadata": {
    "tags": []
   },
   "outputs": [
    {
     "data": {
      "text/html": [
       "<div>\n",
       "<style scoped>\n",
       "    .dataframe tbody tr th:only-of-type {\n",
       "        vertical-align: middle;\n",
       "    }\n",
       "\n",
       "    .dataframe tbody tr th {\n",
       "        vertical-align: top;\n",
       "    }\n",
       "\n",
       "    .dataframe thead th {\n",
       "        text-align: right;\n",
       "    }\n",
       "</style>\n",
       "<table border=\"1\" class=\"dataframe\">\n",
       "  <thead>\n",
       "    <tr style=\"text-align: right;\">\n",
       "      <th></th>\n",
       "      <th>Artist</th>\n",
       "      <th>Total Views</th>\n",
       "      <th>100M</th>\n",
       "      <th>Avg</th>\n",
       "    </tr>\n",
       "  </thead>\n",
       "  <tbody>\n",
       "    <tr>\n",
       "      <th>1374</th>\n",
       "      <td>Łobuzy</td>\n",
       "      <td>396.5</td>\n",
       "      <td>200000000.0</td>\n",
       "      <td>0.11</td>\n",
       "    </tr>\n",
       "    <tr>\n",
       "      <th>537</th>\n",
       "      <td>İrem Derici</td>\n",
       "      <td>1,717.3</td>\n",
       "      <td>300000000.0</td>\n",
       "      <td>0.32</td>\n",
       "    </tr>\n",
       "    <tr>\n",
       "      <th>634</th>\n",
       "      <td>Ñengo Flow</td>\n",
       "      <td>1,388.8</td>\n",
       "      <td>400000000.0</td>\n",
       "      <td>0.82</td>\n",
       "    </tr>\n",
       "    <tr>\n",
       "      <th>1032</th>\n",
       "      <td>Çağatay Akman</td>\n",
       "      <td>742.7</td>\n",
       "      <td>200000000.0</td>\n",
       "      <td>0.05</td>\n",
       "    </tr>\n",
       "    <tr>\n",
       "      <th>350</th>\n",
       "      <td>will.i.am</td>\n",
       "      <td>2,582.0</td>\n",
       "      <td>600000000.0</td>\n",
       "      <td>0.30</td>\n",
       "    </tr>\n",
       "    <tr>\n",
       "      <th>...</th>\n",
       "      <td>...</td>\n",
       "      <td>...</td>\n",
       "      <td>...</td>\n",
       "      <td>...</td>\n",
       "    </tr>\n",
       "    <tr>\n",
       "      <th>562</th>\n",
       "      <td>2CELLOS</td>\n",
       "      <td>1,619.4</td>\n",
       "      <td>100000000.0</td>\n",
       "      <td>0.33</td>\n",
       "    </tr>\n",
       "    <tr>\n",
       "      <th>894</th>\n",
       "      <td>25hours</td>\n",
       "      <td>929.3</td>\n",
       "      <td>100000000.0</td>\n",
       "      <td>0.15</td>\n",
       "    </tr>\n",
       "    <tr>\n",
       "      <th>224</th>\n",
       "      <td>21 Savage</td>\n",
       "      <td>3,741.6</td>\n",
       "      <td>800000000.0</td>\n",
       "      <td>1.10</td>\n",
       "    </tr>\n",
       "    <tr>\n",
       "      <th>534</th>\n",
       "      <td>2 Chainz</td>\n",
       "      <td>1,728.7</td>\n",
       "      <td>500000000.0</td>\n",
       "      <td>0.28</td>\n",
       "    </tr>\n",
       "    <tr>\n",
       "      <th>513</th>\n",
       "      <td>(G)I-DLE</td>\n",
       "      <td>1,797.7</td>\n",
       "      <td>700000000.0</td>\n",
       "      <td>1.66</td>\n",
       "    </tr>\n",
       "  </tbody>\n",
       "</table>\n",
       "<p>1587 rows × 4 columns</p>\n",
       "</div>"
      ],
      "text/plain": [
       "             Artist Total Views         100M   Avg\n",
       "1374         Łobuzy       396.5  200000000.0  0.11\n",
       "537     İrem Derici     1,717.3  300000000.0  0.32\n",
       "634      Ñengo Flow     1,388.8  400000000.0  0.82\n",
       "1032  Çağatay Akman       742.7  200000000.0  0.05\n",
       "350       will.i.am     2,582.0  600000000.0  0.30\n",
       "...             ...         ...          ...   ...\n",
       "562         2CELLOS     1,619.4  100000000.0  0.33\n",
       "894         25hours       929.3  100000000.0  0.15\n",
       "224       21 Savage     3,741.6  800000000.0  1.10\n",
       "534        2 Chainz     1,728.7  500000000.0  0.28\n",
       "513        (G)I-DLE     1,797.7  700000000.0  1.66\n",
       "\n",
       "[1587 rows x 4 columns]"
      ]
     },
     "execution_count": 19,
     "metadata": {},
     "output_type": "execute_result"
    }
   ],
   "source": [
    "#6. Mostrar primeiros 100 usuários por nome decrescente.\n",
    "\n",
    "df_query_nome_desc = df.sort_values(by='Artist', ascending=False) #Ordenando de acordo com o Artist\n",
    "df_query_nome_desc\n",
    "\n"
   ]
  },
  {
   "cell_type": "code",
   "execution_count": null,
   "id": "5911b882-10ca-4955-9d2d-2c8d7e9e6785",
   "metadata": {
    "tags": []
   },
   "outputs": [],
   "source": []
  },
  {
   "cell_type": "code",
   "execution_count": 20,
   "id": "3ba6bf33-d647-4f2e-b883-bb49e623f82b",
   "metadata": {
    "tags": []
   },
   "outputs": [
    {
     "name": "stdout",
     "output_type": "stream",
     "text": [
      "4300Answers.csv\t\t   exemplos\t     numeros_json2.json\n",
      "4300Answers_femininos.csv  imgs\t\t     numeros_json.json\n",
      "customers.csv\t\t   numeros_csv2.csv  topyoutube.csv\n",
      "estados.json\t\t   numeros_csv.json  topyoutube_tratada.csv\n"
     ]
    }
   ],
   "source": [
    "#7. Salvar um novo CSV com a informação tratada.\n",
    "\n",
    "df.to_csv('./arquivos/topyoutube_tratada.csv')\n",
    "!ls ./arquivos"
   ]
  }
 ],
 "metadata": {
  "kernelspec": {
   "display_name": "Python 3 (ipykernel)",
   "language": "python",
   "name": "python3"
  },
  "language_info": {
   "codemirror_mode": {
    "name": "ipython",
    "version": 3
   },
   "file_extension": ".py",
   "mimetype": "text/x-python",
   "name": "python",
   "nbconvert_exporter": "python",
   "pygments_lexer": "ipython3",
   "version": "3.10.9"
  }
 },
 "nbformat": 4,
 "nbformat_minor": 5
}
